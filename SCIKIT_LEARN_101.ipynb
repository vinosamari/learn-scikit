{
  "nbformat": 4,
  "nbformat_minor": 0,
  "metadata": {
    "colab": {
      "provenance": [],
      "authorship_tag": "ABX9TyNpyD36Y3zbIBfDf/4+IIbG",
      "include_colab_link": true
    },
    "kernelspec": {
      "name": "python3",
      "display_name": "Python 3"
    },
    "language_info": {
      "name": "python"
    }
  },
  "cells": [
    {
      "cell_type": "markdown",
      "metadata": {
        "id": "view-in-github",
        "colab_type": "text"
      },
      "source": [
        "<a href=\"https://colab.research.google.com/github/vinosamari/learn-scikit/blob/master/SCIKIT_LEARN_101.ipynb\" target=\"_parent\"><img src=\"https://colab.research.google.com/assets/colab-badge.svg\" alt=\"Open In Colab\"/></a>"
      ]
    },
    {
      "cell_type": "code",
      "execution_count": null,
      "metadata": {
        "id": "7asQes82zcGP"
      },
      "outputs": [],
      "source": [
        "!pip install anaconda numba numpy pandas pandas-datareader patsy scikit-learn scipy statsmodels sympy"
      ]
    },
    {
      "cell_type": "markdown",
      "source": [
        "Scikit-learn addresses machine learning mainly via four categories:\n",
        "- Classification\n",
        "- Regression\n",
        "- Clustering\n",
        "- Dimensionality Reduction\n",
        "\n",
        "**Classification asks**, *Is it an apple or an orange?* Contrast this with machine learning **Regression**, which asks, *How many apples?*\n"
      ],
      "metadata": {
        "id": "HrdlCDiy0Nb5"
      }
    },
    {
      "cell_type": "markdown",
      "source": [
        "# **Numpy Basics**"
      ],
      "metadata": {
        "id": "24R_4Yp61PYj"
      }
    },
    {
      "cell_type": "code",
      "source": [
        "import numpy as np"
      ],
      "metadata": {
        "id": "-INzhE9Ezt3g"
      },
      "execution_count": 6,
      "outputs": []
    },
    {
      "cell_type": "code",
      "source": [
        "a1 = np.arange(10)"
      ],
      "metadata": {
        "id": "6XiOQqJl11_X"
      },
      "execution_count": 9,
      "outputs": []
    },
    {
      "cell_type": "code",
      "source": [
        "a1.shape"
      ],
      "metadata": {
        "colab": {
          "base_uri": "https://localhost:8080/"
        },
        "id": "rKkRBb4Q12nD",
        "outputId": "36de7d01-b976-4133-90e6-aeabbfb116a7"
      },
      "execution_count": 11,
      "outputs": [
        {
          "output_type": "execute_result",
          "data": {
            "text/plain": [
              "(10,)"
            ]
          },
          "metadata": {},
          "execution_count": 11
        }
      ]
    },
    {
      "cell_type": "code",
      "source": [
        "a1 = a1.reshape(5,2) #CHANGES(RESHAPES) THE ARRAY TO 5 2-DIMENSIONAL ARRAYS"
      ],
      "metadata": {
        "id": "6PMK5T032Cgc"
      },
      "execution_count": 15,
      "outputs": []
    },
    {
      "cell_type": "code",
      "source": [
        "a1.shape"
      ],
      "metadata": {
        "colab": {
          "base_uri": "https://localhost:8080/"
        },
        "id": "DmoRtItQ2SyK",
        "outputId": "ee6fdf8a-d8da-43d1-d3a5-22d2ec9e53bd"
      },
      "execution_count": 16,
      "outputs": [
        {
          "output_type": "execute_result",
          "data": {
            "text/plain": [
              "(5, 2)"
            ]
          },
          "metadata": {},
          "execution_count": 16
        }
      ]
    },
    {
      "cell_type": "code",
      "source": [
        "a1.ndim #GETS THE NUMBER OF DIMENSIONS"
      ],
      "metadata": {
        "colab": {
          "base_uri": "https://localhost:8080/"
        },
        "id": "1HxGfxTW2XS_",
        "outputId": "f3b5b586-7b4b-45a0-97eb-7894523cf78c"
      },
      "execution_count": 17,
      "outputs": [
        {
          "output_type": "execute_result",
          "data": {
            "text/plain": [
              "2"
            ]
          },
          "metadata": {},
          "execution_count": 17
        }
      ]
    },
    {
      "cell_type": "markdown",
      "source": [
        "### NUMPY BROADCASTING\n",
        "\n",
        "The term broadcasting refers to the smaller array being stretched or broadcast across the larger array. In the following example, the scalar 1 will be stretched to a 5 x 2 shape and then added to a1."
      ],
      "metadata": {
        "id": "CqWa4zzR276n"
      }
    },
    {
      "cell_type": "code",
      "source": [
        "a1_plus_one = a1 + 1"
      ],
      "metadata": {
        "id": "jy4sNQaU237q"
      },
      "execution_count": 19,
      "outputs": []
    },
    {
      "cell_type": "code",
      "source": [
        "print(a1)\n",
        "print(a1_plus_one)"
      ],
      "metadata": {
        "colab": {
          "base_uri": "https://localhost:8080/"
        },
        "id": "fxWT316m3CV5",
        "outputId": "6e51dea2-9b11-4d27-d36b-69d1064f96a4"
      },
      "execution_count": 21,
      "outputs": [
        {
          "output_type": "stream",
          "name": "stdout",
          "text": [
            "[[0 1]\n",
            " [2 3]\n",
            " [4 5]\n",
            " [6 7]\n",
            " [8 9]]\n",
            "[[ 1  2]\n",
            " [ 3  4]\n",
            " [ 5  6]\n",
            " [ 7  8]\n",
            " [ 9 10]]\n"
          ]
        }
      ]
    },
    {
      "cell_type": "code",
      "source": [],
      "metadata": {
        "id": "BXtK-nui3RGA"
      },
      "execution_count": null,
      "outputs": []
    }
  ]
}