{
  "nbformat": 4,
  "nbformat_minor": 0,
  "metadata": {
    "colab": {
      "provenance": [],
      "authorship_tag": "ABX9TyNsIGjxdixBn7Ej/AhV9HiM",
      "include_colab_link": true
    },
    "kernelspec": {
      "name": "python3",
      "display_name": "Python 3"
    },
    "language_info": {
      "name": "python"
    }
  },
  "cells": [
    {
      "cell_type": "markdown",
      "metadata": {
        "id": "view-in-github",
        "colab_type": "text"
      },
      "source": [
        "<a href=\"https://colab.research.google.com/github/vinosamari/learn-scikit/blob/master/SCIKIT_LEARN_101.ipynb\" target=\"_parent\"><img src=\"https://colab.research.google.com/assets/colab-badge.svg\" alt=\"Open In Colab\"/></a>"
      ]
    },
    {
      "cell_type": "code",
      "execution_count": null,
      "metadata": {
        "id": "7asQes82zcGP"
      },
      "outputs": [],
      "source": [
        "!pip install anaconda numba numpy pandas pandas-datareader patsy scikit-learn scipy statsmodels sympy"
      ]
    },
    {
      "cell_type": "markdown",
      "source": [
        "Scikit-learn addresses machine learning mainly via four categories:\n",
        "- Classification\n",
        "- Regression\n",
        "- Clustering\n",
        "- Dimensionality Reduction\n",
        "\n",
        "**Classification asks**, *Is it an apple or an orange?* Contrast this with machine learning **Regression**, which asks, *How many apples?*\n"
      ],
      "metadata": {
        "id": "HrdlCDiy0Nb5"
      }
    },
    {
      "cell_type": "markdown",
      "source": [
        "# **Numpy Basics**"
      ],
      "metadata": {
        "id": "24R_4Yp61PYj"
      }
    },
    {
      "cell_type": "code",
      "source": [
        "import numpy as np"
      ],
      "metadata": {
        "id": "-INzhE9Ezt3g"
      },
      "execution_count": 23,
      "outputs": []
    },
    {
      "cell_type": "code",
      "source": [
        "a1 = np.arange(10)"
      ],
      "metadata": {
        "id": "6XiOQqJl11_X"
      },
      "execution_count": 4,
      "outputs": []
    },
    {
      "cell_type": "code",
      "source": [
        "a1.shape"
      ],
      "metadata": {
        "colab": {
          "base_uri": "https://localhost:8080/"
        },
        "id": "rKkRBb4Q12nD",
        "outputId": "887bdfa9-3167-4d39-c92b-33243a27a87d"
      },
      "execution_count": 5,
      "outputs": [
        {
          "output_type": "execute_result",
          "data": {
            "text/plain": [
              "(10,)"
            ]
          },
          "metadata": {},
          "execution_count": 5
        }
      ]
    },
    {
      "cell_type": "code",
      "source": [
        "a1 = a1.reshape(5,2) #CHANGES(RESHAPES) THE ARRAY TO 5 2-DIMENSIONAL ARRAYS"
      ],
      "metadata": {
        "id": "6PMK5T032Cgc"
      },
      "execution_count": 6,
      "outputs": []
    },
    {
      "cell_type": "code",
      "source": [
        "a1.shape"
      ],
      "metadata": {
        "colab": {
          "base_uri": "https://localhost:8080/"
        },
        "id": "DmoRtItQ2SyK",
        "outputId": "0206cd8d-a04a-416e-cdfd-4d30cd86c1f2"
      },
      "execution_count": 7,
      "outputs": [
        {
          "output_type": "execute_result",
          "data": {
            "text/plain": [
              "(5, 2)"
            ]
          },
          "metadata": {},
          "execution_count": 7
        }
      ]
    },
    {
      "cell_type": "code",
      "source": [
        "a1.ndim #GETS THE NUMBER OF DIMENSIONS"
      ],
      "metadata": {
        "colab": {
          "base_uri": "https://localhost:8080/"
        },
        "id": "1HxGfxTW2XS_",
        "outputId": "27655299-3cb5-4b49-f25b-72165aaa35ce"
      },
      "execution_count": 8,
      "outputs": [
        {
          "output_type": "execute_result",
          "data": {
            "text/plain": [
              "2"
            ]
          },
          "metadata": {},
          "execution_count": 8
        }
      ]
    },
    {
      "cell_type": "markdown",
      "source": [
        "### NUMPY BROADCASTING\n",
        "\n",
        "The term broadcasting refers to the smaller array being stretched or broadcast across the larger array. In the following example, the scalar 1 will be stretched to a 5 x 2 shape and then added to a1."
      ],
      "metadata": {
        "id": "CqWa4zzR276n"
      }
    },
    {
      "cell_type": "code",
      "source": [
        "a1_plus_one = a1 + 1\n",
        "\n",
        "# SAME AS\n",
        "# a1 + [[1 1]\n",
        "#       [1 1]\n",
        "#       [1 1]\n",
        "#       [1 1]\n",
        "#       [1 1]]"
      ],
      "metadata": {
        "id": "jy4sNQaU237q"
      },
      "execution_count": 16,
      "outputs": []
    },
    {
      "cell_type": "code",
      "source": [
        "print(a1)\n",
        "print(a1_plus_one)"
      ],
      "metadata": {
        "colab": {
          "base_uri": "https://localhost:8080/"
        },
        "id": "fxWT316m3CV5",
        "outputId": "25ca827c-1613-4b16-b963-5ddb7c20c81c"
      },
      "execution_count": 17,
      "outputs": [
        {
          "output_type": "stream",
          "name": "stdout",
          "text": [
            "[[0 1]\n",
            " [2 3]\n",
            " [4 5]\n",
            " [6 7]\n",
            " [8 9]]\n",
            "[[ 1  2]\n",
            " [ 3  4]\n",
            " [ 5  6]\n",
            " [ 7  8]\n",
            " [ 9 10]]\n"
          ]
        }
      ]
    },
    {
      "cell_type": "code",
      "source": [
        "a2 = np.arange(10) #Here, element-wise multiplication will occur.\n",
        "a2 = a2.reshape(5,2)\n",
        "a2_plus_two = a2 ** 2 #Note that this is equivalent to a2 * a2\n",
        "print(a2_plus_two)"
      ],
      "metadata": {
        "colab": {
          "base_uri": "https://localhost:8080/"
        },
        "id": "BXtK-nui3RGA",
        "outputId": "66ea7829-12bd-4041-efec-8506bd073a05"
      },
      "execution_count": 18,
      "outputs": [
        {
          "output_type": "stream",
          "name": "stdout",
          "text": [
            "[[ 0  1]\n",
            " [ 4  9]\n",
            " [16 25]\n",
            " [36 49]\n",
            " [64 81]]\n"
          ]
        }
      ]
    },
    {
      "cell_type": "code",
      "source": [
        "a1_plus_one + a2_plus_two"
      ],
      "metadata": {
        "colab": {
          "base_uri": "https://localhost:8080/"
        },
        "id": "tizGz0pq_ycI",
        "outputId": "2d288a7b-8cf5-41f0-f299-651ff2228506"
      },
      "execution_count": 20,
      "outputs": [
        {
          "output_type": "execute_result",
          "data": {
            "text/plain": [
              "array([[ 1,  3],\n",
              "       [ 7, 13],\n",
              "       [21, 31],\n",
              "       [43, 57],\n",
              "       [73, 91]])"
            ]
          },
          "metadata": {},
          "execution_count": 20
        }
      ]
    },
    {
      "cell_type": "code",
      "source": [
        "one_by_five = np.arange(5).reshape(1,5)\n",
        "print(one_by_five)\n",
        "\n",
        "five_by_one = np.arange(5).reshape(5,1)\n",
        "print(five_by_one)\n"
      ],
      "metadata": {
        "colab": {
          "base_uri": "https://localhost:8080/"
        },
        "id": "39SXCq8LFso9",
        "outputId": "8eee1d18-8ac1-4bce-bea8-6bdb0c970fcd"
      },
      "execution_count": 14,
      "outputs": [
        {
          "output_type": "stream",
          "name": "stdout",
          "text": [
            "[[0 1 2 3 4]]\n",
            "[[0]\n",
            " [1]\n",
            " [2]\n",
            " [3]\n",
            " [4]]\n"
          ]
        }
      ]
    },
    {
      "cell_type": "code",
      "source": [
        "weird_arr = one_by_five + five_by_one #ELEMENT TO ELEMENT ADDITION\n",
        "print(weird_arr)"
      ],
      "metadata": {
        "colab": {
          "base_uri": "https://localhost:8080/"
        },
        "id": "ymzH5ncCGm7t",
        "outputId": "8fee3af7-22b3-4489-ec98-f7515ee98b85"
      },
      "execution_count": 15,
      "outputs": [
        {
          "output_type": "stream",
          "name": "stdout",
          "text": [
            "[[0 1 2 3 4]\n",
            " [1 2 3 4 5]\n",
            " [2 3 4 5 6]\n",
            " [3 4 5 6 7]\n",
            " [4 5 6 7 8]]\n"
          ]
        }
      ]
    },
    {
      "cell_type": "markdown",
      "source": [
        "- The shapes of the arrays you're performing operations on are checked from RTL for a match (or mismatch).\n",
        "- 5 x 2 and 5 x 2 = match\n",
        "- 5 x 1 and 1 x 5 = match\n",
        "- 1 x 2 and 2 x 1 = match\n",
        "- 5 x 2 x 1 and 5 x 2 = mismatch\n",
        "- 5 x 2 x 5 and 1 x 2 x 5 = match\n",
        "- 1 x 2 x 5 and 1 x 5 x 2 = mismatch\n",
        "\n",
        "As we can probably tell, the middle value from the right is compared for equality."
      ],
      "metadata": {
        "id": "0dcZBD2jx7gt"
      }
    },
    {
      "cell_type": "markdown",
      "source": [
        "### Other numpy initialization methods include:"
      ],
      "metadata": {
        "id": "sGXoM-doLSJR"
      }
    },
    {
      "cell_type": "code",
      "source": [
        "zeros = np.zeros((5,2))\n",
        "zeros"
      ],
      "metadata": {
        "colab": {
          "base_uri": "https://localhost:8080/"
        },
        "id": "BxSV8MX8HGKw",
        "outputId": "2472ef4b-45ba-4737-b4f3-24832cf9f001"
      },
      "execution_count": 39,
      "outputs": [
        {
          "output_type": "execute_result",
          "data": {
            "text/plain": [
              "array([[0., 0.],\n",
              "       [0., 0.],\n",
              "       [0., 0.],\n",
              "       [0., 0.],\n",
              "       [0., 0.]])"
            ]
          },
          "metadata": {},
          "execution_count": 39
        }
      ]
    },
    {
      "cell_type": "code",
      "source": [
        "#INITIALIZES ARRAY WITH 1s PASSING IN THE d-type ARGUMENT TO ENSURE THAT ALL ELEMENTS ARE INTEGERS (np.int)\n",
        "#DeprecationWarning: `np.int` is a deprecated alias for the builtin `int`.\n",
        "# ones = np.ones((3,2), dtype=np.int) # <-- FROM THE BOOK. SAME GOES FOR FLOAT\n",
        "#NOTE THAT SCIKIT EXPECTS float TYPES\n",
        "ones = np.ones((3,2), dtype=int)\n",
        "# ones = np.ones((3,2), dtype=float)\n",
        "ones"
      ],
      "metadata": {
        "colab": {
          "base_uri": "https://localhost:8080/"
        },
        "id": "NKGb17fF4_On",
        "outputId": "6f40bfd9-4c98-41fd-cbba-073e3149f450"
      },
      "execution_count": 43,
      "outputs": [
        {
          "output_type": "execute_result",
          "data": {
            "text/plain": [
              "array([[1., 1.],\n",
              "       [1., 1.],\n",
              "       [1., 1.]])"
            ]
          },
          "metadata": {},
          "execution_count": 43
        }
      ]
    },
    {
      "cell_type": "code",
      "source": [],
      "metadata": {
        "id": "wSwzeHvnMQkw"
      },
      "execution_count": null,
      "outputs": []
    }
  ]
}