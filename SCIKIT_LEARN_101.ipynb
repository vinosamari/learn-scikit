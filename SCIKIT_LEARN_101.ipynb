{
  "nbformat": 4,
  "nbformat_minor": 0,
  "metadata": {
    "colab": {
      "provenance": [],
      "authorship_tag": "ABX9TyMnGQxxGEeAh1GFM+0smXq/",
      "include_colab_link": true
    },
    "kernelspec": {
      "name": "python3",
      "display_name": "Python 3"
    },
    "language_info": {
      "name": "python"
    }
  },
  "cells": [
    {
      "cell_type": "markdown",
      "metadata": {
        "id": "view-in-github",
        "colab_type": "text"
      },
      "source": [
        "<a href=\"https://colab.research.google.com/github/vinosamari/learn-scikit/blob/master/SCIKIT_LEARN_101.ipynb\" target=\"_parent\"><img src=\"https://colab.research.google.com/assets/colab-badge.svg\" alt=\"Open In Colab\"/></a>"
      ]
    },
    {
      "cell_type": "code",
      "execution_count": null,
      "metadata": {
        "id": "7asQes82zcGP"
      },
      "outputs": [],
      "source": [
        "!pip install anaconda numba numpy pandas pandas-datareader patsy scikit-learn scipy statsmodels sympy"
      ]
    },
    {
      "cell_type": "markdown",
      "source": [
        "Scikit-learn addresses machine learning mainly via four categories:\n",
        "- Classification\n",
        "- Regression\n",
        "- Clustering\n",
        "- Dimensionality Reduction\n",
        "\n",
        "**Classification asks**, *Is it an apple or an orange?* Contrast this with machine learning **Regression**, which asks, *How many apples?*\n"
      ],
      "metadata": {
        "id": "HrdlCDiy0Nb5"
      }
    },
    {
      "cell_type": "markdown",
      "source": [
        "# **Numpy Basics**"
      ],
      "metadata": {
        "id": "24R_4Yp61PYj"
      }
    },
    {
      "cell_type": "code",
      "source": [
        "import numpy as np"
      ],
      "metadata": {
        "id": "-INzhE9Ezt3g"
      },
      "execution_count": 24,
      "outputs": []
    },
    {
      "cell_type": "code",
      "source": [
        "a1 = np.arange(10)"
      ],
      "metadata": {
        "id": "6XiOQqJl11_X"
      },
      "execution_count": 25,
      "outputs": []
    },
    {
      "cell_type": "code",
      "source": [
        "a1.shape"
      ],
      "metadata": {
        "colab": {
          "base_uri": "https://localhost:8080/"
        },
        "id": "rKkRBb4Q12nD",
        "outputId": "2ec5c43b-44bf-467d-cfb9-78f0720d720f"
      },
      "execution_count": 26,
      "outputs": [
        {
          "output_type": "execute_result",
          "data": {
            "text/plain": [
              "(10,)"
            ]
          },
          "metadata": {},
          "execution_count": 26
        }
      ]
    },
    {
      "cell_type": "code",
      "source": [
        "a1 = a1.reshape(5,2) #CHANGES(RESHAPES) THE ARRAY TO 5 2-DIMENSIONAL ARRAYS"
      ],
      "metadata": {
        "id": "6PMK5T032Cgc"
      },
      "execution_count": 27,
      "outputs": []
    },
    {
      "cell_type": "code",
      "source": [
        "a1.shape"
      ],
      "metadata": {
        "colab": {
          "base_uri": "https://localhost:8080/"
        },
        "id": "DmoRtItQ2SyK",
        "outputId": "47042873-9d70-463a-db63-4197d2b26faa"
      },
      "execution_count": 28,
      "outputs": [
        {
          "output_type": "execute_result",
          "data": {
            "text/plain": [
              "(5, 2)"
            ]
          },
          "metadata": {},
          "execution_count": 28
        }
      ]
    },
    {
      "cell_type": "code",
      "source": [
        "a1.ndim #GETS THE NUMBER OF DIMENSIONS"
      ],
      "metadata": {
        "colab": {
          "base_uri": "https://localhost:8080/"
        },
        "id": "1HxGfxTW2XS_",
        "outputId": "28d16a56-7f1b-4249-ac43-79d9e079746a"
      },
      "execution_count": 29,
      "outputs": [
        {
          "output_type": "execute_result",
          "data": {
            "text/plain": [
              "2"
            ]
          },
          "metadata": {},
          "execution_count": 29
        }
      ]
    },
    {
      "cell_type": "markdown",
      "source": [
        "### NUMPY BROADCASTING\n",
        "\n",
        "The term broadcasting refers to the smaller array being stretched or broadcast across the larger array. In the following example, the scalar 1 will be stretched to a 5 x 2 shape and then added to a1."
      ],
      "metadata": {
        "id": "CqWa4zzR276n"
      }
    },
    {
      "cell_type": "code",
      "source": [
        "a1_plus_one = a1 + 1"
      ],
      "metadata": {
        "id": "jy4sNQaU237q"
      },
      "execution_count": 30,
      "outputs": []
    },
    {
      "cell_type": "code",
      "source": [
        "print(a1)\n",
        "print(a1_plus_one)"
      ],
      "metadata": {
        "colab": {
          "base_uri": "https://localhost:8080/"
        },
        "id": "fxWT316m3CV5",
        "outputId": "beaf8298-0f83-491e-dfcd-577d788bd9b8"
      },
      "execution_count": 31,
      "outputs": [
        {
          "output_type": "stream",
          "name": "stdout",
          "text": [
            "[[0 1]\n",
            " [2 3]\n",
            " [4 5]\n",
            " [6 7]\n",
            " [8 9]]\n",
            "[[ 1  2]\n",
            " [ 3  4]\n",
            " [ 5  6]\n",
            " [ 7  8]\n",
            " [ 9 10]]\n"
          ]
        }
      ]
    },
    {
      "cell_type": "code",
      "source": [
        "a2 = np.arange(10)\n",
        "a2 = a2.reshape(5,2)\n",
        "print(a2 * a2)"
      ],
      "metadata": {
        "colab": {
          "base_uri": "https://localhost:8080/"
        },
        "id": "BXtK-nui3RGA",
        "outputId": "c75a05fc-1f4a-482c-bf42-94d317711ff7"
      },
      "execution_count": 41,
      "outputs": [
        {
          "output_type": "stream",
          "name": "stdout",
          "text": [
            "[[ 0  1]\n",
            " [ 4  9]\n",
            " [16 25]\n",
            " [36 49]\n",
            " [64 81]]\n"
          ]
        }
      ]
    },
    {
      "cell_type": "code",
      "source": [],
      "metadata": {
        "id": "ftsNgzFG6f6v"
      },
      "execution_count": 32,
      "outputs": []
    }
  ]
}